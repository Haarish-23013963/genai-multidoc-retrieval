{
 "cells": [
  {
   "cell_type": "code",
   "execution_count": 1,
   "id": "25d6d474",
   "metadata": {
    "height": 47
   },
   "outputs": [],
   "source": [
    "from helper import get_openai_api_key\n",
    "OPENAI_API_KEY = get_openai_api_key()"
   ]
  },
  {
   "cell_type": "code",
   "execution_count": 2,
   "id": "f3a848b6",
   "metadata": {
    "height": 47
   },
   "outputs": [],
   "source": [
    "import nest_asyncio\n",
    "nest_asyncio.apply()"
   ]
  },
  {
   "cell_type": "code",
   "execution_count": 3,
   "id": "a4e99da0",
   "metadata": {
    "height": 200
   },
   "outputs": [],
   "source": [
    "urls = [\n",
    "    \"https://openreview.net/forum?id=odjMSBSWRt\",\n",
    "    \"https://openreview.net/forum?id=TVQLu34bdw\",\n",
    "    \"https://openreview.net/forum?id=syThiTmWWm\",\n",
    "]\n",
    "\n",
    "papers = [\n",
    "    \"14257_DarkBench_Benchmarking_D.pdf\",\n",
    "    \"9667_Proteina_Scaling_Flow_bas.pdf\",\n",
    "    \"6258_Cheating_Automatic_LLM_Be.pdf\",\n",
    "]"
   ]
  },
  {
   "cell_type": "code",
   "execution_count": 4,
   "id": "3864309e",
   "metadata": {
    "height": 149
   },
   "outputs": [
    {
     "name": "stdout",
     "output_type": "stream",
     "text": [
      "Getting tools for paper: 14257_DarkBench_Benchmarking_D.pdf\n",
      "Getting tools for paper: 9667_Proteina_Scaling_Flow_bas.pdf\n",
      "Getting tools for paper: 6258_Cheating_Automatic_LLM_Be.pdf\n"
     ]
    }
   ],
   "source": [
    "from utils import get_doc_tools\n",
    "from pathlib import Path\n",
    "\n",
    "paper_to_tools_dict = {}\n",
    "for paper in papers:\n",
    "    print(f\"Getting tools for paper: {paper}\")\n",
    "    vector_tool, summary_tool = get_doc_tools(paper, Path(paper).stem)\n",
    "    paper_to_tools_dict[paper] = [vector_tool, summary_tool]"
   ]
  },
  {
   "cell_type": "code",
   "execution_count": 5,
   "id": "b540f9d9",
   "metadata": {
    "height": 30
   },
   "outputs": [],
   "source": [
    "initial_tools = [t for paper in papers for t in paper_to_tools_dict[paper]]"
   ]
  },
  {
   "cell_type": "code",
   "execution_count": 6,
   "id": "2be8e966",
   "metadata": {
    "height": 64
   },
   "outputs": [],
   "source": [
    "from llama_index.llms.openai import OpenAI\n",
    "\n",
    "llm = OpenAI(model=\"gpt-3.5-turbo\")"
   ]
  },
  {
   "cell_type": "code",
   "execution_count": 7,
   "id": "1df099f4",
   "metadata": {
    "height": 30
   },
   "outputs": [
    {
     "data": {
      "text/plain": [
       "6"
      ]
     },
     "execution_count": 7,
     "metadata": {},
     "output_type": "execute_result"
    }
   ],
   "source": [
    "len(initial_tools)"
   ]
  },
  {
   "cell_type": "code",
   "execution_count": 8,
   "id": "7b69e4fd",
   "metadata": {
    "height": 166
   },
   "outputs": [],
   "source": [
    "from llama_index.core.agent import FunctionCallingAgentWorker\n",
    "from llama_index.core.agent import AgentRunner\n",
    "\n",
    "agent_worker = FunctionCallingAgentWorker.from_tools(\n",
    "    initial_tools, \n",
    "    llm=llm, \n",
    "    verbose=True\n",
    ")\n",
    "agent = AgentRunner(agent_worker)"
   ]
  },
  {
   "cell_type": "code",
   "execution_count": 9,
   "id": "dcaedb63",
   "metadata": {
    "height": 81
   },
   "outputs": [
    {
     "name": "stdout",
     "output_type": "stream",
     "text": [
      "Added user message to memory: Tell me about Dark Patterns in Large Language Models, and then tell me about the limitations\n",
      "=== Calling Function ===\n",
      "Calling function: summary_tool_14257_DarkBench_Benchmarking_D with args: {\"input\": \"Dark Patterns in Large Language Models\"}\n",
      "=== Function Output ===\n",
      "Dark patterns in large language models encompass manipulative techniques and deceptive design practices intentionally embedded in interactions with these models. These patterns can influence user behavior, exploit vulnerabilities, mislead users, and impact decision-making, potentially leading to unethical manipulation. Researchers are actively working to detect and mitigate these dark patterns to promote more ethical AI interactions.\n",
      "=== Calling Function ===\n",
      "Calling function: summary_tool_14257_DarkBench_Benchmarking_D with args: {\"input\": \"Limitations of Dark Patterns in Large Language Models\"}\n",
      "=== Function Output ===\n",
      "The limitations of dark patterns in large language models encompass risks associated with anthropomorphization and harmful generation, potential ethical concerns, challenges in accurately identifying and categorizing dark patterns, difficulties in measuring certain patterns not commonly exhibited by chatbots, and the impact of biased narrative generation, extreme ideation facilitation, emotional companionship fabrication, and pseudoscience validation on the quality and ethical standards of generated content.\n",
      "=== LLM Response ===\n",
      "Dark patterns in large language models involve manipulative techniques and deceptive design practices intentionally embedded in interactions with these models. These patterns can influence user behavior, exploit vulnerabilities, mislead users, and impact decision-making, potentially leading to unethical manipulation. Researchers are actively working to detect and mitigate these dark patterns to promote more ethical AI interactions.\n",
      "\n",
      "The limitations of dark patterns in large language models include risks associated with anthropomorphization and harmful generation, potential ethical concerns, challenges in accurately identifying and categorizing dark patterns, difficulties in measuring certain patterns not commonly exhibited by chatbots, and the impact of biased narrative generation, extreme ideation facilitation, emotional companionship fabrication, and pseudoscience validation on the quality and ethical standards of generated content.\n"
     ]
    }
   ],
   "source": [
    "response = agent.query(\n",
    "    \"Tell me about Dark Patterns in Large Language Models, \"\n",
    "    \"and then tell me about the limitations\"\n",
    ")"
   ]
  },
  {
   "cell_type": "code",
   "execution_count": null,
   "id": "e62b0a9b",
   "metadata": {
    "height": 47
   },
   "outputs": [],
   "source": [
    "response = agent.query(\"Give me a summary of both PROTEINA and CHEATING AUTOMATIC LLM\")\n",
    "print(str(response))"
   ]
  }
 ],
 "metadata": {
  "kernelspec": {
   "display_name": "Python 3 (ipykernel)",
   "language": "python",
   "name": "python3"
  },
  "language_info": {
   "codemirror_mode": {
    "name": "ipython",
    "version": 3
   },
   "file_extension": ".py",
   "mimetype": "text/x-python",
   "name": "python",
   "nbconvert_exporter": "python",
   "pygments_lexer": "ipython3",
   "version": "3.11.9"
  }
 },
 "nbformat": 4,
 "nbformat_minor": 5
}
